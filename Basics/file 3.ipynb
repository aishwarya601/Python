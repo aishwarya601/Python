{
 "cells": [
  {
   "cell_type": "code",
   "execution_count": 1,
   "metadata": {},
   "outputs": [
    {
     "name": "stdout",
     "output_type": "stream",
     "text": [
      "Enter number : 6\n",
      "6 is not a prime nummber\n"
     ]
    }
   ],
   "source": [
    "# Program to find n is a prime number or not\n",
    "\n",
    "n = int(input('Enter number : '))\n",
    "flag = 0\n",
    "for i in range (2,n//2+1) :\n",
    "    if (n % i == 0):\n",
    "        flag = 1\n",
    "        break\n",
    "if(flag == 1):\n",
    "    print(n,'is not a prime nummber')\n",
    "else :\n",
    "    print(n,'is prime number')"
   ]
  },
  {
   "cell_type": "code",
   "execution_count": 2,
   "metadata": {},
   "outputs": [
    {
     "name": "stdout",
     "output_type": "stream",
     "text": [
      "Enter number: 5\n",
      " 5 is not a Perfect Number\n"
     ]
    }
   ],
   "source": [
    "# find n is perfect number or not\n",
    "\n",
    "n = int(input(\"Enter number: \"))\n",
    "Sum = 0\n",
    "for i in range(1,n):\n",
    "    if(n % i == 0):\n",
    "        Sum = Sum + i\n",
    "if (Sum == n):\n",
    "    print(\" %d is a Perfect Number\" %n)\n",
    "else:\n",
    "    print(\" %d is not a Perfect Number\" %n)"
   ]
  },
  {
   "cell_type": "code",
   "execution_count": 8,
   "metadata": {},
   "outputs": [
    {
     "name": "stdout",
     "output_type": "stream",
     "text": [
      " 4\n",
      "enter the element12\n",
      "enter the element13\n",
      "enter the element14\n",
      "enter the element15\n",
      "\n",
      " Firstway\n",
      "12 13 14 15 \n",
      " Secondway\n",
      "12 13 14 15 \n",
      " Thirdway\n",
      "12 13 14 15 "
     ]
    }
   ],
   "source": [
    "a=[]\n",
    "n = int(input(' '))\n",
    "for i in range(n):\n",
    "    a.append(int(input('enter the element')))\n",
    "print('\\n Firstway')\n",
    "for ele in a:\n",
    "    print(ele,end=' ')\n",
    "print('\\n Secondway')\n",
    "for i in range(n):\n",
    "    print(a[i],end=' ')\n",
    "print('\\n Thirdway')\n",
    "i=0\n",
    "while(i<n):\n",
    "    print(a[i],end=' ')\n",
    "    i=i+1"
   ]
  },
  {
   "cell_type": "code",
   "execution_count": 12,
   "metadata": {},
   "outputs": [
    {
     "name": "stdout",
     "output_type": "stream",
     "text": [
      "5\n",
      "252 547 858 662 412\n",
      "Palindrome numbers are:\n",
      "252\n",
      "858\n"
     ]
    }
   ],
   "source": [
    "# Palindrome for list\n",
    "\n",
    "n=int(input())\n",
    "l=list(map(int,input().strip().split(' ')))\n",
    "print(\"Palindrome numbers are:\")\n",
    "for i in l:\n",
    "    num=str(i)\n",
    "    if(\"\".join(reversed(num))==num):\n",
    "        print(i)"
   ]
  },
  {
   "cell_type": "code",
   "execution_count": null,
   "metadata": {},
   "outputs": [],
   "source": []
  }
 ],
 "metadata": {
  "kernelspec": {
   "display_name": "Python 3",
   "language": "python",
   "name": "python3"
  },
  "language_info": {
   "codemirror_mode": {
    "name": "ipython",
    "version": 3
   },
   "file_extension": ".py",
   "mimetype": "text/x-python",
   "name": "python",
   "nbconvert_exporter": "python",
   "pygments_lexer": "ipython3",
   "version": "3.7.4"
  }
 },
 "nbformat": 4,
 "nbformat_minor": 2
}
