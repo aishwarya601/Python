{
 "cells": [
  {
   "cell_type": "markdown",
   "metadata": {},
   "source": [
    "**Introduction to markdown**"
   ]
  },
  {
   "cell_type": "markdown",
   "metadata": {},
   "source": [
    "# intro\n",
    "## intro \n",
    "### intro"
   ]
  },
  {
   "cell_type": "markdown",
   "metadata": {},
   "source": [
    "### Introduction to python programming\n",
    "- used as general purpose programming language\n",
    "- functional programming\n",
    "- sscripting and **object oriented** programming\n",
    "- introduction in the year of *1991* by van gudio russum\n",
    "- maintained by ***google***\n",
    "    - used in data science\n",
    "    - used in machine learning\n",
    "    - used in AI\n"
   ]
  },
  {
   "cell_type": "markdown",
   "metadata": {},
   "source": [
    "<img src= \"1.jpg\" Height = \"300px\" width = \"300px\" /> "
   ]
  },
  {
   "cell_type": "code",
   "execution_count": 1,
   "metadata": {},
   "outputs": [
    {
     "data": {
      "text/plain": [
       "'C:\\\\Users\\\\Naveen Jujaray\\\\Documents\\\\Jupyter Notebook'"
      ]
     },
     "execution_count": 1,
     "metadata": {},
     "output_type": "execute_result"
    }
   ],
   "source": [
    "pwd"
   ]
  },
  {
   "cell_type": "code",
   "execution_count": 2,
   "metadata": {},
   "outputs": [
    {
     "name": "stdout",
     "output_type": "stream",
     "text": [
      "Welcome to python\n"
     ]
    }
   ],
   "source": [
    "print(\"Welcome to python\")"
   ]
  },
  {
   "cell_type": "code",
   "execution_count": 3,
   "metadata": {},
   "outputs": [
    {
     "name": "stdout",
     "output_type": "stream",
     "text": [
      "Hello\n",
      "World\n"
     ]
    }
   ],
   "source": [
    "# comment line\n",
    "print(\"Hello\")\n",
    "print(\"World\")"
   ]
  },
  {
   "cell_type": "code",
   "execution_count": 4,
   "metadata": {},
   "outputs": [
    {
     "name": "stdout",
     "output_type": "stream",
     "text": [
      "Hello World\n"
     ]
    }
   ],
   "source": [
    "print(\"Hello\", end =' ')\n",
    "print(\"World\")"
   ]
  },
  {
   "cell_type": "code",
   "execution_count": 5,
   "metadata": {},
   "outputs": [
    {
     "name": "stdout",
     "output_type": "stream",
     "text": [
      "A I\n"
     ]
    }
   ],
   "source": [
    "print(\"A\",\"I\")"
   ]
  },
  {
   "cell_type": "code",
   "execution_count": 6,
   "metadata": {},
   "outputs": [
    {
     "name": "stdout",
     "output_type": "stream",
     "text": [
      "10000454558645648978456465865488 <class 'int'>\n"
     ]
    }
   ],
   "source": [
    "x = 10000454558645648978456465865488 #int\n",
    "print(x,type(x))"
   ]
  },
  {
   "cell_type": "code",
   "execution_count": 7,
   "metadata": {},
   "outputs": [
    {
     "name": "stdout",
     "output_type": "stream",
     "text": [
      "0.12345658 <class 'float'>\n"
     ]
    }
   ],
   "source": [
    "f = 0.12345658 # float\n",
    "print(f,type(f))"
   ]
  },
  {
   "cell_type": "code",
   "execution_count": 8,
   "metadata": {},
   "outputs": [
    {
     "name": "stdout",
     "output_type": "stream",
     "text": [
      "a <class 'str'> application <class 'str'>\n"
     ]
    }
   ],
   "source": [
    "s1 = 'a' #string\n",
    "s2 = 'application'\n",
    "print(s1,type(s1), end= \" \")\n",
    "print(s2,type(s2))"
   ]
  },
  {
   "cell_type": "markdown",
   "metadata": {},
   "source": [
    "## Type Conversions\n",
    "- int()\n",
    "    - Input will be converted into int format\n",
    "- float()\n",
    "    - input will be converted into float format\n",
    "- str()\n",
    "    - input will be converted into str format"
   ]
  },
  {
   "cell_type": "code",
   "execution_count": 9,
   "metadata": {},
   "outputs": [
    {
     "name": "stdout",
     "output_type": "stream",
     "text": [
      "1234 <class 'str'>\n",
      "1234 <class 'int'>\n"
     ]
    }
   ],
   "source": [
    "s1 = \"1234\"\n",
    "print(s1,type(s1))\n",
    "a1 = int(s1)\n",
    "print(a1,type(a1))"
   ]
  },
  {
   "cell_type": "code",
   "execution_count": 10,
   "metadata": {},
   "outputs": [
    {
     "name": "stdout",
     "output_type": "stream",
     "text": [
      "123.455 <class 'str'>\n",
      "123.455 <class 'float'>\n",
      "123 <class 'int'>\n"
     ]
    }
   ],
   "source": [
    "s2 = \"123.455\"\n",
    "print(s2,type(s2))\n",
    "a2 = float(s2)\n",
    "print(a2,type(a2))\n",
    "j2 = int(a2)\n",
    "print(j2,type(j2))"
   ]
  },
  {
   "cell_type": "markdown",
   "metadata": {},
   "source": [
    "# INPUT METHOD OF PYTHON PROGRAMMING\n",
    "- input() is used to read the format from console\n",
    "- it reads the input of string format\n",
    "- use any conversion methods to have inputs\n",
    "    - int()\n",
    "    - float()"
   ]
  },
  {
   "cell_type": "code",
   "execution_count": 18,
   "metadata": {},
   "outputs": [
    {
     "name": "stdout",
     "output_type": "stream",
     "text": [
      "Enter You Name naveen\n",
      "Hello naveen\n"
     ]
    }
   ],
   "source": [
    "name= input('Enter You Name ')\n",
    "print('Hello',name)"
   ]
  },
  {
   "cell_type": "code",
   "execution_count": 19,
   "metadata": {},
   "outputs": [
    {
     "name": "stdout",
     "output_type": "stream",
     "text": [
      "5\n",
      "5.0 <class 'float'>\n"
     ]
    }
   ],
   "source": [
    "num = float(input(''))\n",
    "print(num,type(num))"
   ]
  },
  {
   "cell_type": "markdown",
   "metadata": {},
   "source": [
    "### OPERATORS\n",
    "- ++ -- not work in python, use +=1,-=1\n",
    "- symbols of && || ! will not work in python \n",
    "- use and or not\n",
    "- true and false can be used in python\n",
    "- / and // both can be used in python for divison"
   ]
  },
  {
   "cell_type": "code",
   "execution_count": 20,
   "metadata": {},
   "outputs": [
    {
     "name": "stdout",
     "output_type": "stream",
     "text": [
      "33.333333333333336\n",
      "33\n",
      "300\n",
      "1000000\n"
     ]
    }
   ],
   "source": [
    " a = 100\n",
    "b = 3\n",
    "print(a/b)\n",
    "print(a//b)\n",
    "print(a*b)\n",
    "print(a**b)"
   ]
  },
  {
   "cell_type": "code",
   "execution_count": 21,
   "metadata": {},
   "outputs": [
    {
     "name": "stdout",
     "output_type": "stream",
     "text": [
      "False\n"
     ]
    }
   ],
   "source": [
    " a = 10\n",
    " b = (a>100) and (a<=10)\n",
    "print(b)"
   ]
  },
  {
   "cell_type": "markdown",
   "metadata": {},
   "source": [
    "### Control Flow Statements\n",
    "- Condotional Statements\n",
    "    - if-else\n",
    "- Looping Statements\n",
    "    - while\n",
    "    - for"
   ]
  },
  {
   "cell_type": "code",
   "execution_count": 23,
   "metadata": {},
   "outputs": [
    {
     "name": "stdout",
     "output_type": "stream",
     "text": [
      "I'm Under attack\n"
     ]
    }
   ],
   "source": [
    "a = 10\n",
    "if a>100 :\n",
    "    print('Enemy Spotted')\n",
    "else :\n",
    "    print(\"I'm Under attack\")"
   ]
  },
  {
   "cell_type": "code",
   "execution_count": 22,
   "metadata": {},
   "outputs": [
    {
     "name": "stdout",
     "output_type": "stream",
     "text": [
      "I'm Gaurding this path\n"
     ]
    }
   ],
   "source": [
    "if True:\n",
    "    print(\"I'm Gaurding this path\")\n",
    "else:\n",
    "    print(\"Gather now\")"
   ]
  },
  {
   "cell_type": "code",
   "execution_count": 16,
   "metadata": {},
   "outputs": [
    {
     "name": "stdout",
     "output_type": "stream",
     "text": [
      "Enter Number :5\n",
      "False\n"
     ]
    }
   ],
   "source": [
    "# Read input as num and print yes if it is perfectly divisible by 3 and 5 or print no\n",
    "a = int(input('Enter Number :'))\n",
    "if (a%3==0 and a%5==0) :\n",
    "    print('True')\n",
    "else:\n",
    "    print('False')"
   ]
  },
  {
   "cell_type": "code",
   "execution_count": 15,
   "metadata": {},
   "outputs": [
    {
     "name": "stdout",
     "output_type": "stream",
     "text": [
      "Enter Number 5\n",
      "Positive\n"
     ]
    }
   ],
   "source": [
    "# Read the input as num and test wheather it is positive or negative or zero\n",
    "num = int(input('Enter Number '))\n",
    "if (num>0) :\n",
    "    print('Positive')\n",
    "elif (num<0) :\n",
    "    print('Negative')\n",
    "elif (num==0) :\n",
    "    print('Zero')\n"
   ]
  },
  {
   "cell_type": "code",
   "execution_count": 14,
   "metadata": {},
   "outputs": [
    {
     "name": "stdout",
     "output_type": "stream",
     "text": [
      "Good\n"
     ]
    }
   ],
   "source": [
    "n = 100\n",
    "if n >10:\n",
    "    print('Good')\n",
    "elif n>20:\n",
    "    print('Better')\n",
    "elif n>30:\n",
    "    print('Best')\n",
    "else :\n",
    "    print('Nothing')"
   ]
  },
  {
   "cell_type": "markdown",
   "metadata": {},
   "source": [
    "- ord() gives character ASCII number\n",
    "- ASCII for characters\n",
    "    - **A-Z--65-90**\n",
    "    - **a-z--97-122**\n",
    "    - **0-9--48-57**\n",
    "    - **Space 32**"
   ]
  },
  {
   "cell_type": "code",
   "execution_count": 13,
   "metadata": {},
   "outputs": [
    {
     "name": "stdout",
     "output_type": "stream",
     "text": [
      "65\n",
      "97\n",
      "48\n"
     ]
    }
   ],
   "source": [
    "print(ord('A'))\n",
    "print(ord('a'))\n",
    "print(ord('0'))"
   ]
  },
  {
   "cell_type": "code",
   "execution_count": 12,
   "metadata": {},
   "outputs": [
    {
     "name": "stdout",
     "output_type": "stream",
     "text": [
      "Enter input :2\n",
      "You Entered :  2\n",
      "2 is Numeric\n"
     ]
    }
   ],
   "source": [
    "# READ THE INPUT AS CHAR AND PRINT WHETHER IS UPPER OR LOWER CASE OR DIGIT \n",
    "i = input('Enter input :')\n",
    "print('You Entered : ',i)\n",
    "if (ord(i)>=97 and ord(i)<=122):\n",
    "    print(i,\" is Lower Case\")\n",
    "elif (ord(i)>=48 and ord(i)<=57) :\n",
    "    print(i,'is Numeric')\n",
    "elif (ord(i)>=65 and ord(i)<90) :\n",
    "    print(i,'is Upper Case')"
   ]
  },
  {
   "cell_type": "code",
   "execution_count": 10,
   "metadata": {},
   "outputs": [
    {
     "name": "stdout",
     "output_type": "stream",
     "text": [
      "A\n",
      "z\n",
      "0\n"
     ]
    }
   ],
   "source": [
    "# chr() -- takes the input as ASCII and output represents the character\n",
    "print(chr(65))\n",
    "print(chr(122))\n",
    "print(chr(48))"
   ]
  },
  {
   "cell_type": "code",
   "execution_count": 9,
   "metadata": {},
   "outputs": [
    {
     "name": "stdout",
     "output_type": "stream",
     "text": [
      "Enter input :a\n",
      "A\n"
     ]
    }
   ],
   "source": [
    "# Read the input as character print output as case change\n",
    "i = input('Enter input :')\n",
    "if (65>=ord(i) and ord(i)<90) :\n",
    "    print(chr(ord(i)+32))\n",
    "elif (97<=ord(i) and ord(i)<=122):\n",
    "    print(chr(ord(i)-32))\n",
    "else:\n",
    "    print('Numeric')"
   ]
  },
  {
   "cell_type": "code",
   "execution_count": 6,
   "metadata": {},
   "outputs": [
    {
     "name": "stdout",
     "output_type": "stream",
     "text": [
      "50\n",
      "1 2 3 4 5 6 7 8 9 10 11 12 13 14 15 16 17 18 19 20 21 22 23 24 25 26 27 28 29 30 31 32 33 34 35 36 37 38 39 40 41 42 43 44 45 46 47 48 49 50 "
     ]
    }
   ],
   "source": [
    "# Looping Statements while and for \n",
    "# While -- does not know fixed no of iterations\n",
    "# for   -- knows the fuxwd no of iterations\n",
    "\n",
    "\n",
    "# Read input as N and print the natural numbers from 1 to N \n",
    "n = int(input(''))\n",
    "i=1\n",
    "while i<=n:\n",
    "    print(i,end=' ')\n",
    "    i+= 1"
   ]
  },
  {
   "cell_type": "code",
   "execution_count": 5,
   "metadata": {},
   "outputs": [
    {
     "name": "stdout",
     "output_type": "stream",
     "text": [
      " Please Enter the Maximum Value : 10\n",
      "2\n",
      "4\n",
      "6\n",
      "8\n",
      "10\n"
     ]
    }
   ],
   "source": [
    "# Read the input as n & print the output as sum of even numbers\n",
    "# from 1-n \n",
    "# 10--30 \n",
    "# 15--56\n",
    "\n",
    "\n",
    "maximum = int(input(\" Please Enter the Maximum Value : \"))\n",
    "\n",
    "number = 1\n",
    "\n",
    "while number <= maximum:\n",
    "    if(number % 2 == 0):\n",
    "        print(\"{0}\".format(number))\n",
    "    number = number + 1\n"
   ]
  },
  {
   "cell_type": "code",
   "execution_count": 4,
   "metadata": {},
   "outputs": [
    {
     "name": "stdout",
     "output_type": "stream",
     "text": [
      "2\n",
      "5\n",
      "1 2 3 4 5 1 2 3 4 5 "
     ]
    }
   ],
   "source": [
    "# Read the two numbers input and print the output \n",
    "# 2 5 - 1234512345\n",
    "# 3 2 - 121212\n",
    "I=int(input(''))\n",
    "n=int(input(''))\n",
    "x=0\n",
    "i=1\n",
    "while x<I:\n",
    "    i =1\n",
    "    while i<=n:\n",
    "        print(i,end=' ')\n",
    "        i+=1\n",
    "    x+=1"
   ]
  },
  {
   "cell_type": "code",
   "execution_count": 3,
   "metadata": {},
   "outputs": [
    {
     "name": "stdout",
     "output_type": "stream",
     "text": [
      "145\n",
      "5 4 1 "
     ]
    }
   ],
   "source": [
    "# Read number as input and print output as following\n",
    "# 145-541\n",
    "#1889-9881\n",
    "\n",
    "num = int(input(''))\n",
    "while num !=0:\n",
    "    r = num % 10\n",
    "    print(r,end=' ')\n",
    "    num = num // 10"
   ]
  },
  {
   "cell_type": "code",
   "execution_count": 17,
   "metadata": {},
   "outputs": [
    {
     "name": "stdout",
     "output_type": "stream",
     "text": [
      "145\n",
      "Five Four One "
     ]
    }
   ],
   "source": [
    "# read the input as number and print the output as follows\n",
    "#145- five four one\n",
    "#1889- nine eight eight one\n",
    "\n",
    "num = int(input(''))\n",
    "while num !=0:\n",
    "    r = num % 10\n",
    "    \n",
    "    if r ==1:\n",
    "        print('One',end=' ')\n",
    "        \n",
    "    elif r==2:\n",
    "        print('Two', end= ' ')\n",
    "       \n",
    "    elif r==3:\n",
    "        print('Three', end=' ')\n",
    "        \n",
    "    elif r==4:\n",
    "        print('Four', end=' ')\n",
    "        \n",
    "    elif r==5:\n",
    "        print('Five', end=' ')\n",
    "        \n",
    "    elif r==6:\n",
    "        print('Six', end=' ')\n",
    "        \n",
    "    elif r==7:\n",
    "        print('Seven', end=' ')\n",
    "        \n",
    "    elif r==8:\n",
    "        print('Eight', end=' ')\n",
    "        \n",
    "    elif r==9:\n",
    "        print('Nine', end=' ')\n",
    "   \n",
    "    num = num//10"
   ]
  },
  {
   "cell_type": "markdown",
   "metadata": {},
   "source": [
    "### Functional Programming of python\n",
    "- A block of repeated calling statements called as function\n",
    "- A block of satements represents for particular task is called as Function\n",
    "- A function makes programming more effecting in terms of **Reusability** and **Readability**\n",
    "- Function in python can be defined in a keyword **\"def\"**\n",
    "- Write the function name always with **Camel Case**\n",
    "- Example : **fact(), isPalindrome(), isUserTest()**\n",
    "- Parameters of the function can be **Optional**\n",
    "- User Defined Functions(Syntax):-\n",
    " \n",
    " def funName(<Parameters>)\n",
    "      {\n",
    "        Statements\n",
    "        return\n",
    "      }"
   ]
  },
  {
   "cell_type": "code",
   "execution_count": 27,
   "metadata": {},
   "outputs": [
    {
     "name": "stdout",
     "output_type": "stream",
     "text": [
      " 145\n",
      "Yes\n"
     ]
    }
   ],
   "source": [
    "# Read the number as input and print the output as follows\n",
    "#145- yes\n",
    "#123-no\n",
    "#hint: Individual Digit sum is same as orginal number then print \"YES\" or \"NO\"\n",
    "\n",
    "def fact(n):\n",
    "    f = 1\n",
    "    while n != 0:\n",
    "        f = f* n \n",
    "        n -= 1\n",
    "    return f\n",
    "def digitExtract(x):\n",
    "    sum = 0\n",
    "    while x != 0 :\n",
    "        r = x % 10\n",
    "        sum += fact(r)\n",
    "        x = x // 10\n",
    "    return sum \n",
    "n = int(input(' '))\n",
    "s = digitExtract(n)\n",
    "if n == s:\n",
    "    print('Yes')\n",
    "else :\n",
    "    print('No')"
   ]
  },
  {
   "cell_type": "markdown",
   "metadata": {},
   "source": [
    "# FOR LOOP\n",
    "- range(5) prints the output as 0 1 2 3 4, here range function will not consider the upper limit\n",
    "- range(1,11) - 1 2 3 4 5 6 7 8 9 10\n",
    "- range(0,11,2) - Start value : 1 End value : 10 Step Value : 2"
   ]
  },
  {
   "cell_type": "code",
   "execution_count": 29,
   "metadata": {},
   "outputs": [
    {
     "name": "stdout",
     "output_type": "stream",
     "text": [
      "0 1 2 3 4 "
     ]
    }
   ],
   "source": [
    "for i in range(0,5):\n",
    "    print(i,end=' ')"
   ]
  },
  {
   "cell_type": "code",
   "execution_count": 32,
   "metadata": {},
   "outputs": [
    {
     "name": "stdout",
     "output_type": "stream",
     "text": [
      "1 2 3 4 5 6 7 8 9 10 "
     ]
    }
   ],
   "source": [
    "for i in range(1,11):\n",
    "    print(i,end=' ')"
   ]
  },
  {
   "cell_type": "code",
   "execution_count": 35,
   "metadata": {},
   "outputs": [
    {
     "name": "stdout",
     "output_type": "stream",
     "text": [
      "1 3 5 7 9 "
     ]
    }
   ],
   "source": [
    "for i in range(1,11,2):\n",
    "    print(i,end=' ')"
   ]
  },
  {
   "cell_type": "code",
   "execution_count": 38,
   "metadata": {},
   "outputs": [
    {
     "name": "stdout",
     "output_type": "stream",
     "text": [
      "100 105 110 115 120 125 130 135 140 145 "
     ]
    }
   ],
   "source": [
    "for i in range(100,150,5):\n",
    "    print(i,end=' ')"
   ]
  },
  {
   "cell_type": "code",
   "execution_count": 45,
   "metadata": {},
   "outputs": [
    {
     "name": "stdout",
     "output_type": "stream",
     "text": [
      " 5\n"
     ]
    },
    {
     "data": {
      "text/plain": [
       "120"
      ]
     },
     "execution_count": 45,
     "metadata": {},
     "output_type": "execute_result"
    }
   ],
   "source": [
    "# Factorial of a number using FOR LOOP\n",
    "def fact(n):\n",
    "    f = 1\n",
    "    for i in range(1,n+1):\n",
    "        f = f * i\n",
    "    return f\n",
    "num = int(input(' '))\n",
    "fact(num)"
   ]
  },
  {
   "cell_type": "code",
   "execution_count": 47,
   "metadata": {},
   "outputs": [
    {
     "name": "stdout",
     "output_type": "stream",
     "text": [
      "10 9 8 7 6 5 4 3 2 1 0 "
     ]
    }
   ],
   "source": [
    "for i in range(10,-1,-1):\n",
    "    print(i,end=' ')\n",
    "# 10 - start value \n",
    "# -1 - end value\n",
    "# -1 - step value"
   ]
  },
  {
   "cell_type": "code",
   "execution_count": 49,
   "metadata": {},
   "outputs": [
    {
     "data": {
      "text/plain": [
       "71"
      ]
     },
     "execution_count": 49,
     "metadata": {},
     "output_type": "execute_result"
    }
   ],
   "source": [
    "# Even Numbers from the range of two limits:-\n",
    "#ll ul\n",
    "def fun1(ll,ul):\n",
    "    count = 0\n",
    "    for i in range(ll,ul+1,2):\n",
    "        count += 1\n",
    "    return count\n",
    "ll = 10\n",
    "ul = 150\n",
    "fun1(ll,ul)"
   ]
  },
  {
   "cell_type": "code",
   "execution_count": null,
   "metadata": {},
   "outputs": [],
   "source": []
  },
  {
   "cell_type": "code",
   "execution_count": null,
   "metadata": {},
   "outputs": [],
   "source": []
  }
 ],
 "metadata": {
  "kernelspec": {
   "display_name": "Python 3",
   "language": "python",
   "name": "python3"
  },
  "language_info": {
   "codemirror_mode": {
    "name": "ipython",
    "version": 3
   },
   "file_extension": ".py",
   "mimetype": "text/x-python",
   "name": "python",
   "nbconvert_exporter": "python",
   "pygments_lexer": "ipython3",
   "version": "3.7.4"
  },
  "widgets": {
   "application/vnd.jupyter.widget-state+json": {
    "state": {},
    "version_major": 2,
    "version_minor": 0
   }
  }
 },
 "nbformat": 4,
 "nbformat_minor": 2
}
