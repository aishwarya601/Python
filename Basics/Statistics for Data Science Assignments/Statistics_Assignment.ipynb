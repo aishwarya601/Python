{
 "cells": [
  {
   "cell_type": "code",
   "execution_count": 1,
   "metadata": {},
   "outputs": [],
   "source": [
    "import numpy as np\n",
    "import pandas as pd\n",
    "from scipy.stats import chi2\n",
    "import matplotlib.pyplot as plt\n",
    "from sklearn.linear_model import LinearRegression"
   ]
  },
  {
   "cell_type": "code",
   "execution_count": 2,
   "metadata": {},
   "outputs": [
    {
     "name": "stdout",
     "output_type": "stream",
     "text": [
      "[[ 93.    94.    95.    96.    97.    98.    99.   100.   101.   102.  ]\n",
      " [ 52.33  53.46  54.18  54.69  55.04  55.29  56.28  59.48  61.81  63.71]]\n"
     ]
    }
   ],
   "source": [
    "X = np.matrix([list(range(93, 103)), [52.33, 53.46, 54.18, 54.69, 55.04, 55.29, 56.28, 59.48, 61.81, 63.71]])\n",
    "print(X)"
   ]
  },
  {
   "cell_type": "code",
   "execution_count": 3,
   "metadata": {
    "scrolled": true
   },
   "outputs": [
    {
     "data": {
      "text/plain": [
       "matrix([[97.5  , 97.5  , 97.5  , 97.5  , 97.5  , 97.5  , 97.5  , 97.5  ,\n",
       "         97.5  , 97.5  ],\n",
       "        [56.627, 56.627, 56.627, 56.627, 56.627, 56.627, 56.627, 56.627,\n",
       "         56.627, 56.627]])"
      ]
     },
     "execution_count": 3,
     "metadata": {},
     "output_type": "execute_result"
    }
   ],
   "source": [
    "X_bar = np.matrix([[np.mean(X[0])]*10, [np.mean(X[1])]*10])\n",
    "X_bar"
   ]
  },
  {
   "cell_type": "code",
   "execution_count": 4,
   "metadata": {},
   "outputs": [
    {
     "data": {
      "text/plain": [
       "array([[ 9.16666667, 10.68833333],\n",
       "       [10.68833333, 14.20360111]])"
      ]
     },
     "execution_count": 4,
     "metadata": {},
     "output_type": "execute_result"
    }
   ],
   "source": [
    "np.cov(X)"
   ]
  },
  {
   "cell_type": "code",
   "execution_count": 5,
   "metadata": {},
   "outputs": [
    {
     "name": "stdout",
     "output_type": "stream",
     "text": [
      "[[ 0.88999414 -0.66972833]\n",
      " [-0.66972833  0.57438107]]\n"
     ]
    }
   ],
   "source": [
    "S_inverse = np.linalg.inv(np.cov(X))\n",
    "print(S_inverse)"
   ]
  },
  {
   "cell_type": "code",
   "execution_count": 6,
   "metadata": {},
   "outputs": [
    {
     "name": "stdout",
     "output_type": "stream",
     "text": [
      "[[ 2.72746983  2.2169169   1.48264255  0.63377918 -0.30239012 -1.29312562\n",
      "  -1.88007123 -1.26110377 -1.11686227 -1.20725544]\n",
      " [ 2.2169169   1.81619929  1.20023811  0.47403022 -0.33617515 -1.19887895\n",
      "  -1.67309437 -0.98709448 -0.75783094 -0.75431064]\n",
      " [ 1.48264255  1.20023811  0.80762142  0.35855456 -0.13352195 -0.65247949\n",
      "  -0.97251739 -0.69848442 -0.65831646 -0.73373694]\n",
      " [ 0.63377918  0.47403022  0.35855456  0.26575547  0.19023376  0.12551041\n",
      "  -0.01912083 -0.40239592 -0.69172525 -0.9346216 ]\n",
      " [-0.30239012 -0.33617515 -0.13352195  0.19023376  0.60625804  1.07995018\n",
      "   1.12690016 -0.10060956 -0.8264089  -1.30423645]\n",
      " [-1.29312562 -1.19887895 -0.65247949  0.12551041  1.07995018  2.14467111\n",
      "   2.39331142  0.20473796 -1.02438936 -1.77930766]\n",
      " [-1.88007123 -1.67309437 -0.97251739 -0.01912083  1.12690016  2.39331142\n",
      "   2.76883466  0.48373288 -0.75397353 -1.47400177]\n",
      " [-1.26110377 -0.98709448 -0.69848442 -0.40239592 -0.10060956  0.20473796\n",
      "   0.48373288  0.6840261   0.91530144  1.16188978]\n",
      " [-1.11686227 -0.75783094 -0.65831646 -0.69172525 -0.8264089  -1.02438936\n",
      "  -0.75397353  0.91530144  2.03389431  2.88031096]\n",
      " [-1.20725544 -0.75431064 -0.73373694 -0.9346216  -1.30423645 -1.77930766\n",
      "  -1.47400177  1.16188978  2.88031096  4.14526977]]\n"
     ]
    }
   ],
   "source": [
    "Mahanalobi = np.matmul(np.matmul(np.transpose(np.subtract(X, X_bar)), S_inverse), np.subtract(X, X_bar))\n",
    "print(Mahanalobi)"
   ]
  },
  {
   "cell_type": "code",
   "execution_count": 7,
   "metadata": {},
   "outputs": [
    {
     "name": "stdout",
     "output_type": "stream",
     "text": [
      "[0.26575547008043143, 0.6062580384340961, 0.6840261026608104, 0.8076214218379932, 1.8161992867927699, 2.033894308312916, 2.1446711128789855, 2.727469827008027, 2.768834663189889, 4.145269768804083]\n"
     ]
    }
   ],
   "source": [
    "disquare = sorted(np.diagonal(Mahanalobi))\n",
    "print(disquare)"
   ]
  },
  {
   "cell_type": "code",
   "execution_count": 18,
   "metadata": {},
   "outputs": [
    {
     "name": "stdout",
     "output_type": "stream",
     "text": [
      "[0.10258658877510116, 0.3250378589955499, 0.5753641449035618, 0.8615658321849088, 1.19567400151124, 1.5970153924355435, 2.0996442489973557, 2.7725887222397816, 3.794239969771762, 5.991464547107979]\n"
     ]
    }
   ],
   "source": [
    "chisquare = [chi2.ppf(1-x, 2) for x in [(10 - i + 0.5)/10.0 for i in range(1, 11)]]\n",
    "print(chisquare)"
   ]
  },
  {
   "cell_type": "code",
   "execution_count": 17,
   "metadata": {},
   "outputs": [
    {
     "data": {
      "text/plain": [
       "[<matplotlib.lines.Line2D at 0x7f074919df50>]"
      ]
     },
     "execution_count": 17,
     "metadata": {},
     "output_type": "execute_result"
    },
    {
     "data": {
      "image/png": "[encoded data removed]",
      "text/plain": [
       "<Figure size 432x288 with 1 Axes>"
      ]
     },
     "metadata": {
      "needs_background": "light"
     },
     "output_type": "display_data"
    }
   ],
   "source": [
    "plt.scatter(chisquare, disquare)\n",
    "plt.plot(np.unique(chisquare), np.poly1d(np.polyfit(chisquare, disquare, 1))(np.unique(chisquare)))"
   ]
  }
 ],
 "metadata": {
  "kernelspec": {
   "display_name": "Python 3",
   "language": "python",
   "name": "python3"
  },
  "language_info": {
   "codemirror_mode": {
    "name": "ipython",
    "version": 2
   },
   "file_extension": ".py",
   "mimetype": "text/x-python",
   "name": "python",
   "nbconvert_exporter": "python",
   "pygments_lexer": "ipython2",
   "version": "2.7.12"
  }
 },
 "nbformat": 4,
 "nbformat_minor": 2
}
