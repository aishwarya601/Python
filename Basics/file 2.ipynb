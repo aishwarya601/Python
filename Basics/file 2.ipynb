{
 "cells": [
  {
   "cell_type": "markdown",
   "metadata": {},
   "source": [
    "### range()\n",
    "- range(5)\n",
    "    - 0 1 2 3 4\n",
    "- range(1,5)\n",
    "    - 1 2 3 4\n",
    "- range(1,10,1)\n",
    "    - 1 2 3 4 5 6 7 8 9\n",
    "- range(10,0,-1)\n",
    "    - 10 9 8 7 6 5 4 3 2 1"
   ]
  },
  {
   "cell_type": "markdown",
   "metadata": {},
   "source": [
    "### Data Structures in Python\n",
    "- list\n",
    "- Tuples\n",
    "- Dictionary\n",
    "- sets\n",
    "### List\n",
    "- It's one of the common data structures of python\n",
    "- list can store differnt types of data (int, char, float, string)\n",
    "- List objectives enclosed with in square brackets\n",
    "- Every list item will be seperated by comma(,) operator\n",
    "- Examples :-\n",
    "    - List1 = [1,2,3,4,5]\n",
    "    - List2 = [\"Gitam\",1990.25.85,\"Hyderabad\",'a']\n",
    "    "
   ]
  },
  {
   "cell_type": "code",
   "execution_count": 12,
   "metadata": {},
   "outputs": [
    {
     "name": "stdout",
     "output_type": "stream",
     "text": [
      "[1, 2, 3, 4, 5]\n"
     ]
    }
   ],
   "source": [
    "li = [1,2,3,4,5]\n",
    "print(li)"
   ]
  },
  {
   "cell_type": "code",
   "execution_count": 2,
   "metadata": {},
   "outputs": [
    {
     "name": "stdout",
     "output_type": "stream",
     "text": [
      "1 2 3 4 5 "
     ]
    },
    {
     "data": {
      "text/plain": [
       "5"
      ]
     },
     "execution_count": 2,
     "metadata": {},
     "output_type": "execute_result"
    }
   ],
   "source": [
    "#List -- len()-- Length of the list\n",
    "#len(li)\n",
    "\n",
    "for i in range(len(li)):\n",
    "    print(li[i],end = ' ')\n",
    "len(li)"
   ]
  },
  {
   "cell_type": "code",
   "execution_count": 3,
   "metadata": {},
   "outputs": [],
   "source": [
    "# To update the list item\n",
    "\n",
    "li[3] = 1989"
   ]
  },
  {
   "cell_type": "code",
   "execution_count": 4,
   "metadata": {},
   "outputs": [
    {
     "name": "stdout",
     "output_type": "stream",
     "text": [
      "[1, 2, 3, 1989, 5]\n"
     ]
    }
   ],
   "source": [
    "print(li)"
   ]
  },
  {
   "cell_type": "code",
   "execution_count": 5,
   "metadata": {},
   "outputs": [
    {
     "name": "stdout",
     "output_type": "stream",
     "text": [
      "9\n"
     ]
    }
   ],
   "source": [
    "# Print the alternate items sum\n",
    "\n",
    "sum = 0\n",
    "for i in range(0,len(li),2):\n",
    "    sum += li[i]\n",
    "print(sum)"
   ]
  },
  {
   "cell_type": "code",
   "execution_count": 6,
   "metadata": {},
   "outputs": [
    {
     "name": "stdout",
     "output_type": "stream",
     "text": [
      "[1, 2, 3]\n",
      "[1, 2, 3, 1989]\n",
      "[3, 1989]\n",
      "[2, 3, 1989]\n"
     ]
    }
   ],
   "source": [
    "# Slicing of list object\n",
    "\n",
    "print(li[0:3])\n",
    "\n",
    "# Print the all the items except last line\n",
    "# In list object reverse index starts from -1\n",
    "# -1 -2 -3 .... n\n",
    "\n",
    "print(li[:-1])\n",
    "print(li[2:-1])\n",
    "print(li[1:-1])"
   ]
  },
  {
   "cell_type": "code",
   "execution_count": 7,
   "metadata": {},
   "outputs": [
    {
     "ename": "IndexError",
     "evalue": "list assignment index out of range",
     "output_type": "error",
     "traceback": [
      "\u001b[1;31m---------------------------------------------------------------------------\u001b[0m",
      "\u001b[1;31mIndexError\u001b[0m                                Traceback (most recent call last)",
      "\u001b[1;32m<ipython-input-7-965203d80577>\u001b[0m in \u001b[0;36m<module>\u001b[1;34m\u001b[0m\n\u001b[1;32m----> 1\u001b[1;33m \u001b[0mli\u001b[0m\u001b[1;33m[\u001b[0m\u001b[1;36m5\u001b[0m\u001b[1;33m]\u001b[0m \u001b[1;33m=\u001b[0m \u001b[1;36m1989\u001b[0m\u001b[1;33m\u001b[0m\u001b[1;33m\u001b[0m\u001b[0m\n\u001b[0m",
      "\u001b[1;31mIndexError\u001b[0m: list assignment index out of range"
     ]
    }
   ],
   "source": [
    "li[5] = 1989"
   ]
  },
  {
   "cell_type": "code",
   "execution_count": 10,
   "metadata": {},
   "outputs": [],
   "source": [
    "# Delete list items\n",
    "# delete 3 rd inddex of list\n",
    "\n",
    "del li[3]\n",
    "\n",
    "# delete entire list objects\n",
    "del li"
   ]
  },
  {
   "cell_type": "code",
   "execution_count": 13,
   "metadata": {},
   "outputs": [
    {
     "data": {
      "text/plain": [
       "[1, 2, 3, 4, 5]"
      ]
     },
     "execution_count": 13,
     "metadata": {},
     "output_type": "execute_result"
    }
   ],
   "source": [
    "li"
   ]
  },
  {
   "cell_type": "markdown",
   "metadata": {},
   "source": [
    "### Methods and Functions of List\n",
    "- Max()\n",
    "    - Gives the highest item of the list\n",
    "- Min()\n",
    "    - Gives the least item of the list\n",
    "- Sum()\n",
    "    - Returns the sum of entire list\n",
    "- len()\n",
    "    - returns the length of the list\n",
    "- Append()\n",
    "    - append(listItem) : which inserts the new item at the end\n",
    "- insert()\n",
    "    - insert(index,listItem) : which inserts the new item at the specific index\n",
    "- count()\n",
    "    - count(listitem) : which returns how many times the item is repeated in the given list\n",
    "- pop()\n",
    "    - pop() : will remove item in the last index\n",
    "    - pop(index) : will remove item at spefic index\n",
    "- sort()\n",
    "    - sort() : will make the list as sorted in ascending order\n",
    "- reverse()\n",
    "    - reverse() : wil make list as sorted in descending order\n",
    "- "
   ]
  },
  {
   "cell_type": "code",
   "execution_count": 23,
   "metadata": {},
   "outputs": [
    {
     "name": "stdout",
     "output_type": "stream",
     "text": [
      "1\n",
      "6\n",
      "5\n"
     ]
    }
   ],
   "source": [
    "print(min(li))\n",
    "print(len(li))\n",
    "print(max(li))"
   ]
  },
  {
   "cell_type": "code",
   "execution_count": 25,
   "metadata": {},
   "outputs": [],
   "source": [
    "li.append(3)\n",
    "li.insert(2,9)"
   ]
  },
  {
   "cell_type": "code",
   "execution_count": 26,
   "metadata": {},
   "outputs": [
    {
     "data": {
      "text/plain": [
       "[1, 2, 9, 3, 4, 5, 3, 3]"
      ]
     },
     "execution_count": 26,
     "metadata": {},
     "output_type": "execute_result"
    }
   ],
   "source": [
    "li"
   ]
  },
  {
   "cell_type": "code",
   "execution_count": 27,
   "metadata": {},
   "outputs": [
    {
     "name": "stdout",
     "output_type": "stream",
     "text": [
      "1\n"
     ]
    }
   ],
   "source": [
    "print(li.count(5))"
   ]
  },
  {
   "cell_type": "code",
   "execution_count": 28,
   "metadata": {},
   "outputs": [
    {
     "name": "stdout",
     "output_type": "stream",
     "text": [
      "3\n"
     ]
    }
   ],
   "source": [
    "print(li.count(3))"
   ]
  },
  {
   "cell_type": "code",
   "execution_count": 29,
   "metadata": {},
   "outputs": [
    {
     "data": {
      "text/plain": [
       "[1, 2, 9, 3, 4, 5, 3]"
      ]
     },
     "execution_count": 29,
     "metadata": {},
     "output_type": "execute_result"
    }
   ],
   "source": [
    "li.pop()\n",
    "li"
   ]
  },
  {
   "cell_type": "code",
   "execution_count": 30,
   "metadata": {},
   "outputs": [
    {
     "data": {
      "text/plain": [
       "[1, 2, 3, 4, 5, 3]"
      ]
     },
     "execution_count": 30,
     "metadata": {},
     "output_type": "execute_result"
    }
   ],
   "source": [
    "li.pop(2)\n",
    "li"
   ]
  },
  {
   "cell_type": "code",
   "execution_count": 31,
   "metadata": {},
   "outputs": [
    {
     "data": {
      "text/plain": [
       "[-2, -1, 1, 2, 3, 3, 4, 5]"
      ]
     },
     "execution_count": 31,
     "metadata": {},
     "output_type": "execute_result"
    }
   ],
   "source": [
    "li.append(-1)\n",
    "li.append(-2)\n",
    "li\n",
    "li.sort()\n",
    "li"
   ]
  },
  {
   "cell_type": "code",
   "execution_count": 32,
   "metadata": {},
   "outputs": [],
   "source": [
    "li.reverse()"
   ]
  },
  {
   "cell_type": "code",
   "execution_count": 33,
   "metadata": {},
   "outputs": [
    {
     "data": {
      "text/plain": [
       "[5, 4, 3, 3, 2, 1, -1, -2]"
      ]
     },
     "execution_count": 33,
     "metadata": {},
     "output_type": "execute_result"
    }
   ],
   "source": [
    "li"
   ]
  },
  {
   "cell_type": "code",
   "execution_count": 38,
   "metadata": {},
   "outputs": [
    {
     "data": {
      "text/plain": [
       "1958687"
      ]
     },
     "execution_count": 38,
     "metadata": {},
     "output_type": "execute_result"
    }
   ],
   "source": [
    "# Write a function to find second large item of list\n",
    "\n",
    "def SL(lis):\n",
    "    lis.sort()\n",
    "    return li[-2]\n",
    "lis = [200,20,2222,222,1958687,501475368]\n",
    "SL(lis) "
   ]
  },
  {
   "cell_type": "code",
   "execution_count": 40,
   "metadata": {},
   "outputs": [
    {
     "name": "stdout",
     "output_type": "stream",
     "text": [
      "2222\n",
      "1958687\n"
     ]
    }
   ],
   "source": [
    "def genericLarge(li,n):\n",
    "    li.sort()\n",
    "    return li[-n]\n",
    "li = [200,20,2222,222,1958687,501475368]\n",
    "print(genericLarge(li,3))\n",
    "print(genericLarge(li,2))"
   ]
  },
  {
   "cell_type": "code",
   "execution_count": 47,
   "metadata": {},
   "outputs": [
    {
     "name": "stdout",
     "output_type": "stream",
     "text": [
      "20\n",
      "200\n"
     ]
    }
   ],
   "source": [
    "def genericLeast(li,n) :\n",
    "    li.sort()\n",
    "    return li[n-1]\n",
    "li = [200,20,2222,222,1958687,501475368]\n",
    "print(genericLeast(li,1))\n",
    "print(genericLeast(li,2))"
   ]
  },
  {
   "cell_type": "markdown",
   "metadata": {},
   "source": [
    "### Number to List conversions\n",
    "- Example : 1597531"
   ]
  },
  {
   "cell_type": "code",
   "execution_count": 66,
   "metadata": {},
   "outputs": [
    {
     "name": "stdout",
     "output_type": "stream",
     "text": [
      " 12341\n"
     ]
    },
    {
     "data": {
      "text/plain": [
       "2"
      ]
     },
     "execution_count": 66,
     "metadata": {},
     "output_type": "execute_result"
    }
   ],
   "source": [
    "def numberList(n):\n",
    "    li= []\n",
    "    while n != 0:\n",
    "        li.append(n%10)\n",
    "        n = n // 10\n",
    "    li.reverse()\n",
    "    return li\n",
    "n = int(input(' '))\n",
    "li = numberList(n)\n",
    "li.count(1)\n",
    "        "
   ]
  },
  {
   "cell_type": "markdown",
   "metadata": {},
   "source": [
    "### Tuples\n",
    "- Tuple is also one data structure in python\n",
    "- Its simillar to list object\n",
    "- Tuple is only used for reading the data\n",
    "- it means tuples immitable where as list is mutable\n",
    "- Tuple can be defined in paranthasesis()\n",
    "- Example : t1 = (1,2,3,4)"
   ]
  },
  {
   "cell_type": "code",
   "execution_count": 73,
   "metadata": {},
   "outputs": [
    {
     "name": "stdout",
     "output_type": "stream",
     "text": [
      "(1, 2, 3, 4, 5)\n"
     ]
    }
   ],
   "source": [
    "t1 = (1,2,3,4,5)\n",
    "print(t1)"
   ]
  },
  {
   "cell_type": "code",
   "execution_count": 74,
   "metadata": {},
   "outputs": [
    {
     "name": "stdout",
     "output_type": "stream",
     "text": [
      "(1, 2, 3)\n"
     ]
    }
   ],
   "source": [
    "print(t1[0:3]) # SLicing of tuple is same as the list object"
   ]
  },
  {
   "cell_type": "code",
   "execution_count": 76,
   "metadata": {},
   "outputs": [
    {
     "ename": "TypeError",
     "evalue": "'tuple' object doesn't support item deletion",
     "output_type": "error",
     "traceback": [
      "\u001b[1;31m---------------------------------------------------------------------------\u001b[0m",
      "\u001b[1;31mTypeError\u001b[0m                                 Traceback (most recent call last)",
      "\u001b[1;32m<ipython-input-76-f28a945d62c4>\u001b[0m in \u001b[0;36m<module>\u001b[1;34m\u001b[0m\n\u001b[1;32m----> 1\u001b[1;33m \u001b[1;32mdel\u001b[0m \u001b[0mt1\u001b[0m\u001b[1;33m[\u001b[0m\u001b[1;36m3\u001b[0m\u001b[1;33m]\u001b[0m \u001b[1;31m# Tuple objectdoesn't support item deletion\u001b[0m\u001b[1;33m\u001b[0m\u001b[1;33m\u001b[0m\u001b[0m\n\u001b[0m",
      "\u001b[1;31mTypeError\u001b[0m: 'tuple' object doesn't support item deletion"
     ]
    }
   ],
   "source": [
    "del t1[3] # Tuple object doesn't support item deletion"
   ]
  },
  {
   "cell_type": "code",
   "execution_count": 78,
   "metadata": {},
   "outputs": [
    {
     "ename": "TypeError",
     "evalue": "'tuple' object does not support item assignment",
     "output_type": "error",
     "traceback": [
      "\u001b[1;31m---------------------------------------------------------------------------\u001b[0m",
      "\u001b[1;31mTypeError\u001b[0m                                 Traceback (most recent call last)",
      "\u001b[1;32m<ipython-input-78-af909afede38>\u001b[0m in \u001b[0;36m<module>\u001b[1;34m\u001b[0m\n\u001b[1;32m----> 1\u001b[1;33m \u001b[0mt1\u001b[0m\u001b[1;33m[\u001b[0m\u001b[1;36m2\u001b[0m\u001b[1;33m]\u001b[0m \u001b[1;33m=\u001b[0m \u001b[1;36m1986\u001b[0m \u001b[1;31m# Tuple object doesn't supprt item assignment\u001b[0m\u001b[1;33m\u001b[0m\u001b[1;33m\u001b[0m\u001b[0m\n\u001b[0m",
      "\u001b[1;31mTypeError\u001b[0m: 'tuple' object does not support item assignment"
     ]
    }
   ],
   "source": [
    "t1[2] = 1986 # Tuple object doesn't supprt item assignment"
   ]
  },
  {
   "cell_type": "code",
   "execution_count": 87,
   "metadata": {},
   "outputs": [
    {
     "name": "stdout",
     "output_type": "stream",
     "text": [
      "2 4 6 8 10 "
     ]
    }
   ],
   "source": [
    "for i in range(len(t1)) :\n",
    "    print(t1[i]*2, end = ' ')"
   ]
  },
  {
   "cell_type": "code",
   "execution_count": 88,
   "metadata": {},
   "outputs": [
    {
     "data": {
      "text/plain": [
       "(1, 2, 3, 4, 5)"
      ]
     },
     "execution_count": 88,
     "metadata": {},
     "output_type": "execute_result"
    }
   ],
   "source": [
    "# Tuple object cannont be used for any kind of updates, deletes , append and insert\n",
    "t1"
   ]
  },
  {
   "cell_type": "markdown",
   "metadata": {},
   "source": [
    "### DIctionaries \n",
    "- In python another common data structure is dictionaries\n",
    "- This data structures works on key and value\n",
    "- Every key is defined with some value and key is always a unique key\n",
    "- This object enclosed with curly braces{}\n",
    "- Each key and value is seperated from comma(,) operator\n",
    "- Key and value is separated from colon (:) operator\n",
    "- Example : **d1 = {\"k1\" : \"v1\",\"v2\"}**"
   ]
  },
  {
   "cell_type": "code",
   "execution_count": 116,
   "metadata": {},
   "outputs": [],
   "source": [
    "d1  = {\"Name\" : \"Gitam\",\"Emailid\" : \"gitam@gitam.edu\",\"Phone\":\"123456789\" }"
   ]
  },
  {
   "cell_type": "code",
   "execution_count": 90,
   "metadata": {},
   "outputs": [
    {
     "data": {
      "text/plain": [
       "{'Name': 'Gitam', 'Email id': 'gitam@gitam.edu', 'Phone': '123456789'}"
      ]
     },
     "execution_count": 90,
     "metadata": {},
     "output_type": "execute_result"
    }
   ],
   "source": [
    "d1"
   ]
  },
  {
   "cell_type": "code",
   "execution_count": 91,
   "metadata": {},
   "outputs": [
    {
     "data": {
      "text/plain": [
       "'Gitam'"
      ]
     },
     "execution_count": 91,
     "metadata": {},
     "output_type": "execute_result"
    }
   ],
   "source": [
    "#Only value of the key\n",
    "d1[\"Name\"]"
   ]
  },
  {
   "cell_type": "code",
   "execution_count": 93,
   "metadata": {},
   "outputs": [
    {
     "data": {
      "text/plain": [
       "dict_keys(['Name', 'Email id', 'Phone'])"
      ]
     },
     "execution_count": 93,
     "metadata": {},
     "output_type": "execute_result"
    }
   ],
   "source": [
    "# keys() returns all the keys of the d1 object\n",
    "d1.keys()"
   ]
  },
  {
   "cell_type": "code",
   "execution_count": 96,
   "metadata": {},
   "outputs": [
    {
     "data": {
      "text/plain": [
       "dict_values(['Gitam', 'gitam@gitam.edu', '123456789'])"
      ]
     },
     "execution_count": 96,
     "metadata": {},
     "output_type": "execute_result"
    }
   ],
   "source": [
    "# values() returns all the values of the d1 object\n",
    "d1.values()"
   ]
  },
  {
   "cell_type": "code",
   "execution_count": 107,
   "metadata": {},
   "outputs": [],
   "source": [
    "# Updat especific key\n",
    "d1[\"Emailid\"] = \"Hyd@gitam.edu \""
   ]
  },
  {
   "cell_type": "code",
   "execution_count": 117,
   "metadata": {},
   "outputs": [
    {
     "data": {
      "text/plain": [
       "{'Name': 'Gitam', 'Emailid': 'gitam@gitam.edu', 'Phone': '123456789'}"
      ]
     },
     "execution_count": 117,
     "metadata": {},
     "output_type": "execute_result"
    }
   ],
   "source": [
    "d1"
   ]
  },
  {
   "cell_type": "code",
   "execution_count": 118,
   "metadata": {},
   "outputs": [],
   "source": [
    "# Delete specific key\n",
    "del d1[\"Emailid\"]"
   ]
  },
  {
   "cell_type": "code",
   "execution_count": 119,
   "metadata": {},
   "outputs": [
    {
     "data": {
      "text/plain": [
       "{'Name': 'Gitam', 'Phone': '123456789'}"
      ]
     },
     "execution_count": 119,
     "metadata": {},
     "output_type": "execute_result"
    }
   ],
   "source": [
    "d1"
   ]
  },
  {
   "cell_type": "code",
   "execution_count": 114,
   "metadata": {},
   "outputs": [],
   "source": [
    "del d1"
   ]
  },
  {
   "cell_type": "markdown",
   "metadata": {},
   "source": [
    "### Contact Application \n",
    "   - Add contact\n",
    "   - Search Contact\n",
    "   - Import Contacts\n",
    "   - Modify Contact\n",
    "   - Delete Contact\n",
    "   "
   ]
  },
  {
   "cell_type": "code",
   "execution_count": 135,
   "metadata": {},
   "outputs": [
    {
     "name": "stdout",
     "output_type": "stream",
     "text": [
      "Anil Added to Contacts Successfully\n",
      "Harsha Added to Contacts Successfully\n",
      "Anil  Already Exist in contacts\n",
      "Anil  :  123456789\n",
      "anil  is not found\n",
      "No :  3 Successfully Added\n",
      "Anil Updated\n",
      "Prabhas not found\n",
      "Anil Deleted Succesfully\n",
      "prabhas Contact not found\n"
     ]
    }
   ],
   "source": [
    "contacts = {}\n",
    "def addContact(name,phone) :\n",
    "    if name not in contacts :\n",
    "        contacts[name] = phone\n",
    "        print(name, 'Added to Contacts Successfully')\n",
    "    else :\n",
    "        print(name,' Already Exist in contacts')\n",
    "    return\n",
    "addContact('Anil',123456789)\n",
    "addContact('Harsha',23456789)\n",
    "addContact('Anil',123456789)\n",
    "\n",
    "def searchContact(name):\n",
    "    if name in contacts:\n",
    "        print(name,' : ',contacts[name])\n",
    "    else :\n",
    "        print(name,' is not found')\n",
    "    return\n",
    "searchContact('Anil')\n",
    "searchContact('anil')\n",
    "\n",
    "def importContact(newContacts) :\n",
    "    contacts.update(newContacts)\n",
    "    print('No : ',len(newContacts.keys()),'Successfully Added')\n",
    "    return\n",
    "newContacts = {'Ajay' : 2565854741, 'Aravind' : 999995858, 'Rakesh' : 2252525554}\n",
    "importContact(newContacts)\n",
    "\n",
    "def modifyContactDetails(name,phone) :\n",
    "    if name in contacts :\n",
    "        contacts[name] = phone\n",
    "        print(name,'Updated')\n",
    "    else :\n",
    "        print(name,'not found')\n",
    "    return \n",
    "modifyContactDetails('Anil',88888888)\n",
    "modifyContactDetails('Prabhas',12345689)\n",
    "\n",
    "def deleteContact(name) :\n",
    "    if name in contacts :\n",
    "        del contacts[name]\n",
    "        print(name,'Deleted Succesfully')\n",
    "    else :\n",
    "        print(name,'Contact not found')\n",
    "    return\n",
    "deleteContact('Anil')\n",
    "deleteContact('prabhas')"
   ]
  },
  {
   "cell_type": "code",
   "execution_count": 137,
   "metadata": {},
   "outputs": [],
   "source": [
    "# Try to sort dictonary object data\n",
    "# Try to add single name should have multiple values"
   ]
  },
  {
   "cell_type": "code",
   "execution_count": 138,
   "metadata": {},
   "outputs": [
    {
     "name": "stdout",
     "output_type": "stream",
     "text": [
      "Ajay 2565854741\n",
      "Aravind 999995858\n",
      "Harsha 23456789\n",
      "Rakesh 2252525554\n"
     ]
    }
   ],
   "source": [
    "for i in sorted(contacts.keys()):\n",
    "    print(i,contacts[i])"
   ]
  },
  {
   "cell_type": "markdown",
   "metadata": {},
   "source": [
    "# Strings in Python"
   ]
  },
  {
   "cell_type": "code",
   "execution_count": null,
   "metadata": {},
   "outputs": [],
   "source": []
  },
  {
   "cell_type": "code",
   "execution_count": null,
   "metadata": {},
   "outputs": [],
   "source": []
  }
 ],
 "metadata": {
  "kernelspec": {
   "display_name": "Python 3",
   "language": "python",
   "name": "python3"
  },
  "language_info": {
   "codemirror_mode": {
    "name": "ipython",
    "version": 3
   },
   "file_extension": ".py",
   "mimetype": "text/x-python",
   "name": "python",
   "nbconvert_exporter": "python",
   "pygments_lexer": "ipython3",
   "version": "3.7.4"
  }
 },
 "nbformat": 4,
 "nbformat_minor": 2
}
