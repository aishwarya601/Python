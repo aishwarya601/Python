{
  "nbformat": 4,
  "nbformat_minor": 0,
  "metadata": {
    "colab": {
      "name": "XOR Problem.ipynb",
      "version": "0.3.2",
      "provenance": [],
      "collapsed_sections": []
    },
    "language_info": {
      "codemirror_mode": {
        "name": "ipython",
        "version": 3
      },
      "file_extension": ".py",
      "mimetype": "text/x-python",
      "name": "python",
      "nbconvert_exporter": "python",
      "pygments_lexer": "ipython3",
      "version": "3.6.5"
    },
    "kernelspec": {
      "display_name": "Python 3",
      "language": "python",
      "name": "python3"
    }
  },
  "cells": [
    {
      "cell_type": "code",
      "metadata": {
        "id": "MnQhvU_cFrNA",
        "colab_type": "code",
        "colab": {}
      },
      "source": [
        "import numpy as np\n",
        "import matplotlib.pyplot as plt"
      ],
      "execution_count": 0,
      "outputs": []
    },
    {
      "cell_type": "code",
      "metadata": {
        "id": "4UNTemqWFrNF",
        "colab_type": "code",
        "colab": {}
      },
      "source": [
        "def initialize(no_of_next_units, no_of_prev_units):\n",
        "    W = np.random.randn(no_of_next_units, no_of_prev_units)\n",
        "    b = np.zeros((no_of_next_units,1))\n",
        "    return W, b\n",
        "def sigmoid(x):\n",
        "    return(1/(1+np.exp(-x)))\n",
        "def deriv_sigmoid(x):\n",
        "    return(sigmoid(x)*(1-sigmoid(x)))\n",
        "def loss(A, Y):\n",
        "    return (1/2)*np.linalg.norm(A-Y)\n",
        "def gradient_descent(input_layer, hidden_units, output_layer):\n",
        "    learning_rate = 0.9\n",
        "    W1, b1 = initialize(hidden_units, input_layer.shape[0])\n",
        "    W2, b2 = initialize(output_layer.shape[0], hidden_units)\n",
        "    X = input_layer\n",
        "    Y = output_layer\n",
        "    for i in range(1000):\n",
        "        Z1 = np.dot(W1, X)+b1\n",
        "        A1 = np.tanh(Z1)\n",
        "        Z2 = np.dot(W2, A1)+b2\n",
        "        A2 = sigmoid(Z2)\n",
        "        dZ2 = (Y-A2)*deriv_sigmoid(Z2)\n",
        "        dW2 = np.dot(dZ2, A1.T)\n",
        "        db2 = np.sum(dZ2, axis=1, keepdims=True)\n",
        "        dZ1 = np.dot(W2.T, dZ2)*(1-np.square(A1))\n",
        "        dW1 = np.dot(dZ1, X.T)\n",
        "        db1 = np.sum(dZ1, axis=1, keepdims=True)\n",
        "        W1 = W1 + learning_rate*dW1\n",
        "        W2 = W2 + learning_rate*dW2\n",
        "        b1 = b1 + learning_rate*db1\n",
        "        b2 = b2 + learning_rate*db2\n",
        "        if(i%100 == 0):\n",
        "            print(\"Loss after \", i, \"th iteration: \", loss(A2, Y))\n",
        "    return W1, W2, b1, b2"
      ],
      "execution_count": 0,
      "outputs": []
    },
    {
      "cell_type": "code",
      "metadata": {
        "id": "L6q0caHsFrNJ",
        "colab_type": "code",
        "colab": {}
      },
      "source": [
        "def predict(W1, W2, b1, b2, X):\n",
        "    return np.round(sigmoid(np.dot(W2, np.tanh(np.dot(W1, X)+b1))+b2))"
      ],
      "execution_count": 0,
      "outputs": []
    },
    {
      "cell_type": "code",
      "metadata": {
        "id": "tb1ZdD2YFrNP",
        "colab_type": "code",
        "outputId": "a7e44680-b508-4638-ac77-893918e2c303",
        "colab": {
          "base_uri": "https://localhost:8080/",
          "height": 199
        }
      },
      "source": [
        "X = np.array([[-1, -1], [-1, 1], [1, -1], [1, 1]]).T\n",
        "X = (X-np.mean(X, keepdims = True, axis = 1))/np.var(X, keepdims = True, axis = 1)\n",
        "Y = np.array([0, 1, 1, 0]).reshape(1, 4)\n",
        "W1, W2, b1, b2 = gradient_descent(X,3,Y)"
      ],
      "execution_count": 10,
      "outputs": [
        {
          "output_type": "stream",
          "text": [
            "Loss after  0 th iteration:  0.5030810388461585\n",
            "Loss after  100 th iteration:  0.08866513316671801\n",
            "Loss after  200 th iteration:  0.052728376333851204\n",
            "Loss after  300 th iteration:  0.04058151252256263\n",
            "Loss after  400 th iteration:  0.03406970761842646\n",
            "Loss after  500 th iteration:  0.029882251090047218\n",
            "Loss after  600 th iteration:  0.026908844344324532\n",
            "Loss after  700 th iteration:  0.02466097043198785\n",
            "Loss after  800 th iteration:  0.02288647756215207\n",
            "Loss after  900 th iteration:  0.021440600749033305\n"
          ],
          "name": "stdout"
        }
      ]
    },
    {
      "cell_type": "code",
      "metadata": {
        "id": "p83RF_6TFrNV",
        "colab_type": "code",
        "outputId": "d1c3ec11-f456-4dc4-8ea4-f7afe1f93674",
        "colab": {
          "base_uri": "https://localhost:8080/",
          "height": 284
        }
      },
      "source": [
        "if(predict(W1, W2, b1, b2, np.array([[-1],[-1]]))[0][0] == 1):\n",
        "    plt.scatter(-1, -1, c=\"yellow\")\n",
        "else:\n",
        "    plt.scatter(-1, -1, c=\"black\")\n",
        "if(predict(W1, W2, b1, b2, np.array([[-1],[1]]))[0][0] == 1):\n",
        "    plt.scatter(-1, 1, c=\"yellow\")\n",
        "else:\n",
        "    plt.scatter(-1, 1, c=\"black\")\n",
        "if(predict(W1, W2, b1, b2, np.array([[1],[-1]]))[0][0] == 1):\n",
        "    plt.scatter(1, -1, c=\"yellow\")\n",
        "else:\n",
        "    plt.scatter(1, -1, c=\"black\")\n",
        "if(predict(W1, W2, b1, b2, np.array([[1],[1]]))[0][0] == 1):\n",
        "    plt.scatter(1, 1, c=\"yellow\")\n",
        "else:\n",
        "    plt.scatter(1, 1, c=\"black\")\n",
        "plt.xlabel(\"X\")\n",
        "plt.ylabel(\"Y\")\n",
        "plt.show()"
      ],
      "execution_count": 11,
      "outputs": [
        {
          "output_type": "display_data",
          "data": {
            "image/png": "[encoded data removed]",
            "text/plain": [
              "<Figure size 432x288 with 1 Axes>"
            ]
          },
          "metadata": {
            "tags": []
          }
        }
      ]
    },
    {
      "cell_type": "code",
      "metadata": {
        "id": "kle0UKrBFrNZ",
        "colab_type": "code",
        "outputId": "4bb26d38-e74d-4a48-b8ce-a991bbfcdc1a",
        "colab": {
          "base_uri": "https://localhost:8080/",
          "height": 284
        }
      },
      "source": [
        "for i in range(-20, 20):\n",
        "    for j in range(-20, 20):\n",
        "        if(predict(W1, W2, b1, b2, np.array([[i],[j]]))[0][0] == 1):\n",
        "            plt.scatter(i, j,c=\"brown\")\n",
        "        else:\n",
        "            plt.scatter(i, j,c=\"yellow\")\n",
        "plt.xlabel(\"X\")\n",
        "plt.ylabel(\"Y\")\n",
        "plt.show()"
      ],
      "execution_count": 12,
      "outputs": [
        {
          "output_type": "display_data",
          "data": {
            "image/png": "[encoded data removed]",
            "text/plain": [
              "<Figure size 432x288 with 1 Axes>"
            ]
          },
          "metadata": {
            "tags": []
          }
        }
      ]
    },
    {
      "cell_type": "code",
      "metadata": {
        "id": "EzuEwAB9FrNd",
        "colab_type": "code",
        "colab": {}
      },
      "source": [
        ""
      ],
      "execution_count": 0,
      "outputs": []
    },
    {
      "cell_type": "code",
      "metadata": {
        "id": "v-gmg5_AFrNh",
        "colab_type": "code",
        "colab": {}
      },
      "source": [
        ""
      ],
      "execution_count": 0,
      "outputs": []
    }
  ]
}