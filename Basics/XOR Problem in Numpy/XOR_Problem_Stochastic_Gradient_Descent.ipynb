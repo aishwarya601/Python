{
  "nbformat": 4,
  "nbformat_minor": 0,
  "metadata": {
    "colab": {
      "name": "XOR Problem.ipynb",
      "version": "0.3.2",
      "provenance": [],
      "collapsed_sections": []
    },
    "language_info": {
      "codemirror_mode": {
        "name": "ipython",
        "version": 3
      },
      "file_extension": ".py",
      "mimetype": "text/x-python",
      "name": "python",
      "nbconvert_exporter": "python",
      "pygments_lexer": "ipython3",
      "version": "3.6.5"
    },
    "kernelspec": {
      "display_name": "Python 3",
      "language": "python",
      "name": "python3"
    }
  },
  "cells": [
    {
      "cell_type": "code",
      "metadata": {
        "id": "MnQhvU_cFrNA",
        "colab_type": "code",
        "colab": {}
      },
      "source": [
        "import numpy as np\n",
        "import matplotlib.pyplot as plt"
      ],
      "execution_count": 0,
      "outputs": []
    },
    {
      "cell_type": "code",
      "metadata": {
        "id": "4UNTemqWFrNF",
        "colab_type": "code",
        "colab": {}
      },
      "source": [
        "def initialize(no_of_next_units, no_of_prev_units):\n",
        "    W = np.random.randn(no_of_next_units, no_of_prev_units)\n",
        "    b = np.zeros((no_of_next_units,1))\n",
        "    return W, b\n",
        "def sigmoid(x):\n",
        "    return(1/(1+np.exp(-x)))\n",
        "def deriv_sigmoid(x):\n",
        "    return(sigmoid(x)*(1-sigmoid(x)))\n",
        "def loss(A, Y):\n",
        "    return (1/2)*np.linalg.norm(A-Y)\n",
        "def stochastic_gradient_descent(input_layer, hidden_units, output_layer):\n",
        "    learning_rate = 0.9\n",
        "    W1, b1 = initialize(hidden_units, input_layer.shape[0])\n",
        "    W2, b2 = initialize(output_layer.shape[0], hidden_units)\n",
        "    for i in range(1000):\n",
        "        index = int(np.floor(np.random.randn()%input_layer.shape[1]))\n",
        "        X = input_layer[:, index]\n",
        "        X = X.reshape(input_layer.shape[0], 1)\n",
        "        Y = output_layer[:, index]\n",
        "        Y = Y.reshape(output_layer.shape[0], 1)\n",
        "        Z1 = np.dot(W1, X)+b1\n",
        "        A1 = np.tanh(Z1)\n",
        "        Z2 = np.dot(W2, A1)+b2\n",
        "        A2 = sigmoid(Z2)\n",
        "        dZ2 = (Y-A2)*deriv_sigmoid(Z2)\n",
        "        dW2 = np.dot(dZ2, A1.T)\n",
        "        db2 = np.sum(dZ2, axis=1, keepdims=True)\n",
        "        dZ1 = np.dot(W2.T, dZ2)*(1-np.square(A1))\n",
        "        dW1 = np.dot(dZ1, X.T)\n",
        "        db1 = np.sum(dZ1, axis=1, keepdims=True)\n",
        "        W1 = W1 + learning_rate*dW1\n",
        "        W2 = W2 + learning_rate*dW2\n",
        "        b1 = b1 + learning_rate*db1\n",
        "        b2 = b2 + learning_rate*db2\n",
        "        if(i%100 == 0):\n",
        "            print(\"Loss after \", i, \"th iteration: \", loss(A2, Y))\n",
        "    return W1, W2, b1, b2"
      ],
      "execution_count": 0,
      "outputs": []
    },
    {
      "cell_type": "code",
      "metadata": {
        "id": "L6q0caHsFrNJ",
        "colab_type": "code",
        "colab": {}
      },
      "source": [
        "def predict(W1, W2, b1, b2, X):\n",
        "    return np.round(sigmoid(np.dot(W2, np.tanh(np.dot(W1, X)+b1))+b2))"
      ],
      "execution_count": 0,
      "outputs": []
    },
    {
      "cell_type": "code",
      "metadata": {
        "id": "tb1ZdD2YFrNP",
        "colab_type": "code",
        "outputId": "dfe8fe55-3523-44b8-84ea-9c1676e28330",
        "colab": {
          "base_uri": "https://localhost:8080/",
          "height": 187
        }
      },
      "source": [
        "X = np.array([[-1, -1], [-1, 1], [1, -1], [1, 1]]).T\n",
        "X = (X-np.mean(X, keepdims = True, axis = 1))/np.var(X, keepdims = True, axis = 1)\n",
        "Y = np.array([0, 1, 1, 0]).reshape(1, 4)\n",
        "W1, W2, b1, b2 = stochastic_gradient_descent(X,3,Y)"
      ],
      "execution_count": 16,
      "outputs": [
        {
          "output_type": "stream",
          "text": [
            "Loss after  0 th iteration:  0.1943795247273539\n",
            "Loss after  100 th iteration:  0.07331267335401974\n",
            "Loss after  200 th iteration:  0.0701790452946549\n",
            "Loss after  300 th iteration:  0.026083049294852417\n",
            "Loss after  400 th iteration:  0.04609072888751849\n",
            "Loss after  500 th iteration:  0.05748082970673457\n",
            "Loss after  600 th iteration:  0.05115359234407807\n",
            "Loss after  700 th iteration:  0.040102148276640326\n",
            "Loss after  800 th iteration:  0.0387442672783429\n",
            "Loss after  900 th iteration:  0.007392484091790429\n"
          ],
          "name": "stdout"
        }
      ]
    },
    {
      "cell_type": "code",
      "metadata": {
        "id": "p83RF_6TFrNV",
        "colab_type": "code",
        "outputId": "7adf7513-2771-4562-fd2c-3cf9de78928c",
        "colab": {
          "base_uri": "https://localhost:8080/",
          "height": 283
        }
      },
      "source": [
        "if(predict(W1, W2, b1, b2, np.array([[-1],[-1]]))[0][0] == 1):\n",
        "    plt.scatter(-1, -1, c=\"yellow\")\n",
        "else:\n",
        "    plt.scatter(-1, -1, c=\"black\")\n",
        "if(predict(W1, W2, b1, b2, np.array([[-1],[1]]))[0][0] == 1):\n",
        "    plt.scatter(-1, 1, c=\"yellow\")\n",
        "else:\n",
        "    plt.scatter(-1, 1, c=\"black\")\n",
        "if(predict(W1, W2, b1, b2, np.array([[1],[-1]]))[0][0] == 1):\n",
        "    plt.scatter(1, -1, c=\"yellow\")\n",
        "else:\n",
        "    plt.scatter(1, -1, c=\"black\")\n",
        "if(predict(W1, W2, b1, b2, np.array([[1],[1]]))[0][0] == 1):\n",
        "    plt.scatter(1, 1, c=\"yellow\")\n",
        "else:\n",
        "    plt.scatter(1, 1, c=\"black\")\n",
        "plt.xlabel(\"X\")\n",
        "plt.ylabel(\"Y\")\n",
        "plt.show()"
      ],
      "execution_count": 17,
      "outputs": [
        {
          "output_type": "display_data",
          "data": {
            "image/png": "[encoded data removed]",
            "text/plain": [
              "<Figure size 432x288 with 1 Axes>"
            ]
          },
          "metadata": {
            "tags": []
          }
        }
      ]
    },
    {
      "cell_type": "code",
      "metadata": {
        "id": "kle0UKrBFrNZ",
        "colab_type": "code",
        "outputId": "9dec08b6-eb2f-4658-a1dd-1e125ce40e59",
        "colab": {
          "base_uri": "https://localhost:8080/",
          "height": 283
        }
      },
      "source": [
        "for i in range(-20, 20):\n",
        "    for j in range(-20, 20):\n",
        "        if(predict(W1, W2, b1, b2, np.array([[i],[j]]))[0][0] == 1):\n",
        "            plt.scatter(i, j,c=\"brown\")\n",
        "        else:\n",
        "            plt.scatter(i, j,c=\"yellow\")\n",
        "plt.xlabel(\"X\")\n",
        "plt.ylabel(\"Y\")\n",
        "plt.show()"
      ],
      "execution_count": 18,
      "outputs": [
        {
          "output_type": "display_data",
          "data": {
            "image/png": "[encoded data removed]",
            "text/plain": [
              "<Figure size 432x288 with 1 Axes>"
            ]
          },
          "metadata": {
            "tags": []
          }
        }
      ]
    },
    {
      "cell_type": "code",
      "metadata": {
        "id": "EzuEwAB9FrNd",
        "colab_type": "code",
        "colab": {}
      },
      "source": [
        ""
      ],
      "execution_count": 0,
      "outputs": []
    },
    {
      "cell_type": "code",
      "metadata": {
        "id": "v-gmg5_AFrNh",
        "colab_type": "code",
        "colab": {}
      },
      "source": [
        ""
      ],
      "execution_count": 0,
      "outputs": []
    }
  ]
}